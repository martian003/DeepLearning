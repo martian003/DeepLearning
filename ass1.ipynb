{
  "nbformat": 4,
  "nbformat_minor": 0,
  "metadata": {
    "colab": {
      "provenance": []
    },
    "kernelspec": {
      "name": "python3",
      "display_name": "Python 3"
    },
    "language_info": {
      "name": "python"
    }
  },
  "cells": [
    {
      "cell_type": "code",
      "execution_count": 1,
      "metadata": {
        "id": "mJIpUDdFCgdf"
      },
      "outputs": [],
      "source": [
        "import pandas as pd\n",
        "import numpy as np\n",
        "from sklearn.linear_model import LinearRegression\n",
        "from sklearn.preprocessing import PolynomialFeatures\n",
        "from sklearn.pipeline import make_pipeline\n",
        "from sklearn.svm import SVR\n",
        "from sklearn.model_selection import train_test_split\n",
        "from sklearn.metrics import r2_score,mean_absolute_error,mean_absolute_percentage_error\n",
        "import datetime"
      ]
    },
    {
      "cell_type": "code",
      "source": [
        "df = pd.read_excel(\"TCS_stock_history.xlsx\")"
      ],
      "metadata": {
        "id": "BWopzsRwDd0Q"
      },
      "execution_count": 2,
      "outputs": []
    },
    {
      "cell_type": "code",
      "source": [
        "df.head()"
      ],
      "metadata": {
        "colab": {
          "base_uri": "https://localhost:8080/",
          "height": 206
        },
        "id": "YRdWdQ-4DwW1",
        "outputId": "312aa328-26bd-4e51-aff2-065584ac47bb"
      },
      "execution_count": 3,
      "outputs": [
        {
          "output_type": "execute_result",
          "data": {
            "text/plain": [
              "        Date       Open       High        Low      Close  Volume  Dividends  Stock Splits\n",
              "0 2002-08-12  28.794172  29.742206  28.794172  29.519140  212976        0.0             0\n",
              "1 2002-08-13  29.556316  30.030333  28.905705  29.119476  153576        0.0             0\n",
              "2 2002-08-14  29.184536  29.184536  26.563503  27.111877  822776        0.0             0\n",
              "3 2002-08-15  27.111877  27.111877  27.111877  27.111877       0        0.0             0\n",
              "4 2002-08-16  26.972458  28.255089  26.582090  27.046812  811856        0.0             0"
            ],
            "text/html": [
              "\n",
              "  <div id=\"df-0bb5ac62-9e61-4caa-a224-d0bb21074b21\" class=\"colab-df-container\">\n",
              "    <div>\n",
              "<style scoped>\n",
              "    .dataframe tbody tr th:only-of-type {\n",
              "        vertical-align: middle;\n",
              "    }\n",
              "\n",
              "    .dataframe tbody tr th {\n",
              "        vertical-align: top;\n",
              "    }\n",
              "\n",
              "    .dataframe thead th {\n",
              "        text-align: right;\n",
              "    }\n",
              "</style>\n",
              "<table border=\"1\" class=\"dataframe\">\n",
              "  <thead>\n",
              "    <tr style=\"text-align: right;\">\n",
              "      <th></th>\n",
              "      <th>Date</th>\n",
              "      <th>Open</th>\n",
              "      <th>High</th>\n",
              "      <th>Low</th>\n",
              "      <th>Close</th>\n",
              "      <th>Volume</th>\n",
              "      <th>Dividends</th>\n",
              "      <th>Stock Splits</th>\n",
              "    </tr>\n",
              "  </thead>\n",
              "  <tbody>\n",
              "    <tr>\n",
              "      <th>0</th>\n",
              "      <td>2002-08-12</td>\n",
              "      <td>28.794172</td>\n",
              "      <td>29.742206</td>\n",
              "      <td>28.794172</td>\n",
              "      <td>29.519140</td>\n",
              "      <td>212976</td>\n",
              "      <td>0.0</td>\n",
              "      <td>0</td>\n",
              "    </tr>\n",
              "    <tr>\n",
              "      <th>1</th>\n",
              "      <td>2002-08-13</td>\n",
              "      <td>29.556316</td>\n",
              "      <td>30.030333</td>\n",
              "      <td>28.905705</td>\n",
              "      <td>29.119476</td>\n",
              "      <td>153576</td>\n",
              "      <td>0.0</td>\n",
              "      <td>0</td>\n",
              "    </tr>\n",
              "    <tr>\n",
              "      <th>2</th>\n",
              "      <td>2002-08-14</td>\n",
              "      <td>29.184536</td>\n",
              "      <td>29.184536</td>\n",
              "      <td>26.563503</td>\n",
              "      <td>27.111877</td>\n",
              "      <td>822776</td>\n",
              "      <td>0.0</td>\n",
              "      <td>0</td>\n",
              "    </tr>\n",
              "    <tr>\n",
              "      <th>3</th>\n",
              "      <td>2002-08-15</td>\n",
              "      <td>27.111877</td>\n",
              "      <td>27.111877</td>\n",
              "      <td>27.111877</td>\n",
              "      <td>27.111877</td>\n",
              "      <td>0</td>\n",
              "      <td>0.0</td>\n",
              "      <td>0</td>\n",
              "    </tr>\n",
              "    <tr>\n",
              "      <th>4</th>\n",
              "      <td>2002-08-16</td>\n",
              "      <td>26.972458</td>\n",
              "      <td>28.255089</td>\n",
              "      <td>26.582090</td>\n",
              "      <td>27.046812</td>\n",
              "      <td>811856</td>\n",
              "      <td>0.0</td>\n",
              "      <td>0</td>\n",
              "    </tr>\n",
              "  </tbody>\n",
              "</table>\n",
              "</div>\n",
              "    <div class=\"colab-df-buttons\">\n",
              "\n",
              "  <div class=\"colab-df-container\">\n",
              "    <button class=\"colab-df-convert\" onclick=\"convertToInteractive('df-0bb5ac62-9e61-4caa-a224-d0bb21074b21')\"\n",
              "            title=\"Convert this dataframe to an interactive table.\"\n",
              "            style=\"display:none;\">\n",
              "\n",
              "  <svg xmlns=\"http://www.w3.org/2000/svg\" height=\"24px\" viewBox=\"0 -960 960 960\">\n",
              "    <path d=\"M120-120v-720h720v720H120Zm60-500h600v-160H180v160Zm220 220h160v-160H400v160Zm0 220h160v-160H400v160ZM180-400h160v-160H180v160Zm440 0h160v-160H620v160ZM180-180h160v-160H180v160Zm440 0h160v-160H620v160Z\"/>\n",
              "  </svg>\n",
              "    </button>\n",
              "\n",
              "  <style>\n",
              "    .colab-df-container {\n",
              "      display:flex;\n",
              "      gap: 12px;\n",
              "    }\n",
              "\n",
              "    .colab-df-convert {\n",
              "      background-color: #E8F0FE;\n",
              "      border: none;\n",
              "      border-radius: 50%;\n",
              "      cursor: pointer;\n",
              "      display: none;\n",
              "      fill: #1967D2;\n",
              "      height: 32px;\n",
              "      padding: 0 0 0 0;\n",
              "      width: 32px;\n",
              "    }\n",
              "\n",
              "    .colab-df-convert:hover {\n",
              "      background-color: #E2EBFA;\n",
              "      box-shadow: 0px 1px 2px rgba(60, 64, 67, 0.3), 0px 1px 3px 1px rgba(60, 64, 67, 0.15);\n",
              "      fill: #174EA6;\n",
              "    }\n",
              "\n",
              "    .colab-df-buttons div {\n",
              "      margin-bottom: 4px;\n",
              "    }\n",
              "\n",
              "    [theme=dark] .colab-df-convert {\n",
              "      background-color: #3B4455;\n",
              "      fill: #D2E3FC;\n",
              "    }\n",
              "\n",
              "    [theme=dark] .colab-df-convert:hover {\n",
              "      background-color: #434B5C;\n",
              "      box-shadow: 0px 1px 3px 1px rgba(0, 0, 0, 0.15);\n",
              "      filter: drop-shadow(0px 1px 2px rgba(0, 0, 0, 0.3));\n",
              "      fill: #FFFFFF;\n",
              "    }\n",
              "  </style>\n",
              "\n",
              "    <script>\n",
              "      const buttonEl =\n",
              "        document.querySelector('#df-0bb5ac62-9e61-4caa-a224-d0bb21074b21 button.colab-df-convert');\n",
              "      buttonEl.style.display =\n",
              "        google.colab.kernel.accessAllowed ? 'block' : 'none';\n",
              "\n",
              "      async function convertToInteractive(key) {\n",
              "        const element = document.querySelector('#df-0bb5ac62-9e61-4caa-a224-d0bb21074b21');\n",
              "        const dataTable =\n",
              "          await google.colab.kernel.invokeFunction('convertToInteractive',\n",
              "                                                    [key], {});\n",
              "        if (!dataTable) return;\n",
              "\n",
              "        const docLinkHtml = 'Like what you see? Visit the ' +\n",
              "          '<a target=\"_blank\" href=https://colab.research.google.com/notebooks/data_table.ipynb>data table notebook</a>'\n",
              "          + ' to learn more about interactive tables.';\n",
              "        element.innerHTML = '';\n",
              "        dataTable['output_type'] = 'display_data';\n",
              "        await google.colab.output.renderOutput(dataTable, element);\n",
              "        const docLink = document.createElement('div');\n",
              "        docLink.innerHTML = docLinkHtml;\n",
              "        element.appendChild(docLink);\n",
              "      }\n",
              "    </script>\n",
              "  </div>\n",
              "\n",
              "\n",
              "<div id=\"df-865c0e48-e29e-48a3-a611-fbcce3240f83\">\n",
              "  <button class=\"colab-df-quickchart\" onclick=\"quickchart('df-865c0e48-e29e-48a3-a611-fbcce3240f83')\"\n",
              "            title=\"Suggest charts\"\n",
              "            style=\"display:none;\">\n",
              "\n",
              "<svg xmlns=\"http://www.w3.org/2000/svg\" height=\"24px\"viewBox=\"0 0 24 24\"\n",
              "     width=\"24px\">\n",
              "    <g>\n",
              "        <path d=\"M19 3H5c-1.1 0-2 .9-2 2v14c0 1.1.9 2 2 2h14c1.1 0 2-.9 2-2V5c0-1.1-.9-2-2-2zM9 17H7v-7h2v7zm4 0h-2V7h2v10zm4 0h-2v-4h2v4z\"/>\n",
              "    </g>\n",
              "</svg>\n",
              "  </button>\n",
              "\n",
              "<style>\n",
              "  .colab-df-quickchart {\n",
              "      --bg-color: #E8F0FE;\n",
              "      --fill-color: #1967D2;\n",
              "      --hover-bg-color: #E2EBFA;\n",
              "      --hover-fill-color: #174EA6;\n",
              "      --disabled-fill-color: #AAA;\n",
              "      --disabled-bg-color: #DDD;\n",
              "  }\n",
              "\n",
              "  [theme=dark] .colab-df-quickchart {\n",
              "      --bg-color: #3B4455;\n",
              "      --fill-color: #D2E3FC;\n",
              "      --hover-bg-color: #434B5C;\n",
              "      --hover-fill-color: #FFFFFF;\n",
              "      --disabled-bg-color: #3B4455;\n",
              "      --disabled-fill-color: #666;\n",
              "  }\n",
              "\n",
              "  .colab-df-quickchart {\n",
              "    background-color: var(--bg-color);\n",
              "    border: none;\n",
              "    border-radius: 50%;\n",
              "    cursor: pointer;\n",
              "    display: none;\n",
              "    fill: var(--fill-color);\n",
              "    height: 32px;\n",
              "    padding: 0;\n",
              "    width: 32px;\n",
              "  }\n",
              "\n",
              "  .colab-df-quickchart:hover {\n",
              "    background-color: var(--hover-bg-color);\n",
              "    box-shadow: 0 1px 2px rgba(60, 64, 67, 0.3), 0 1px 3px 1px rgba(60, 64, 67, 0.15);\n",
              "    fill: var(--button-hover-fill-color);\n",
              "  }\n",
              "\n",
              "  .colab-df-quickchart-complete:disabled,\n",
              "  .colab-df-quickchart-complete:disabled:hover {\n",
              "    background-color: var(--disabled-bg-color);\n",
              "    fill: var(--disabled-fill-color);\n",
              "    box-shadow: none;\n",
              "  }\n",
              "\n",
              "  .colab-df-spinner {\n",
              "    border: 2px solid var(--fill-color);\n",
              "    border-color: transparent;\n",
              "    border-bottom-color: var(--fill-color);\n",
              "    animation:\n",
              "      spin 1s steps(1) infinite;\n",
              "  }\n",
              "\n",
              "  @keyframes spin {\n",
              "    0% {\n",
              "      border-color: transparent;\n",
              "      border-bottom-color: var(--fill-color);\n",
              "      border-left-color: var(--fill-color);\n",
              "    }\n",
              "    20% {\n",
              "      border-color: transparent;\n",
              "      border-left-color: var(--fill-color);\n",
              "      border-top-color: var(--fill-color);\n",
              "    }\n",
              "    30% {\n",
              "      border-color: transparent;\n",
              "      border-left-color: var(--fill-color);\n",
              "      border-top-color: var(--fill-color);\n",
              "      border-right-color: var(--fill-color);\n",
              "    }\n",
              "    40% {\n",
              "      border-color: transparent;\n",
              "      border-right-color: var(--fill-color);\n",
              "      border-top-color: var(--fill-color);\n",
              "    }\n",
              "    60% {\n",
              "      border-color: transparent;\n",
              "      border-right-color: var(--fill-color);\n",
              "    }\n",
              "    80% {\n",
              "      border-color: transparent;\n",
              "      border-right-color: var(--fill-color);\n",
              "      border-bottom-color: var(--fill-color);\n",
              "    }\n",
              "    90% {\n",
              "      border-color: transparent;\n",
              "      border-bottom-color: var(--fill-color);\n",
              "    }\n",
              "  }\n",
              "</style>\n",
              "\n",
              "  <script>\n",
              "    async function quickchart(key) {\n",
              "      const quickchartButtonEl =\n",
              "        document.querySelector('#' + key + ' button');\n",
              "      quickchartButtonEl.disabled = true;  // To prevent multiple clicks.\n",
              "      quickchartButtonEl.classList.add('colab-df-spinner');\n",
              "      try {\n",
              "        const charts = await google.colab.kernel.invokeFunction(\n",
              "            'suggestCharts', [key], {});\n",
              "      } catch (error) {\n",
              "        console.error('Error during call to suggestCharts:', error);\n",
              "      }\n",
              "      quickchartButtonEl.classList.remove('colab-df-spinner');\n",
              "      quickchartButtonEl.classList.add('colab-df-quickchart-complete');\n",
              "    }\n",
              "    (() => {\n",
              "      let quickchartButtonEl =\n",
              "        document.querySelector('#df-865c0e48-e29e-48a3-a611-fbcce3240f83 button');\n",
              "      quickchartButtonEl.style.display =\n",
              "        google.colab.kernel.accessAllowed ? 'block' : 'none';\n",
              "    })();\n",
              "  </script>\n",
              "</div>\n",
              "\n",
              "    </div>\n",
              "  </div>\n"
            ],
            "application/vnd.google.colaboratory.intrinsic+json": {
              "type": "dataframe",
              "variable_name": "df",
              "summary": "{\n  \"name\": \"df\",\n  \"rows\": 4463,\n  \"fields\": [\n    {\n      \"column\": \"Date\",\n      \"properties\": {\n        \"dtype\": \"date\",\n        \"min\": \"2002-08-12 00:00:00\",\n        \"max\": \"2021-09-30 00:00:00\",\n        \"num_unique_values\": 4463,\n        \"samples\": [\n          \"2004-11-05 00:00:00\",\n          \"2007-07-18 00:00:00\",\n          \"2011-11-24 00:00:00\"\n        ],\n        \"semantic_type\": \"\",\n        \"description\": \"\"\n      }\n    },\n    {\n      \"column\": \"Open\",\n      \"properties\": {\n        \"dtype\": \"number\",\n        \"std\": 829.905368018393,\n        \"min\": 24.146938217479,\n        \"max\": 3930.0,\n        \"num_unique_values\": 4460,\n        \"samples\": [\n          109.400845632802,\n          555.169058678645,\n          441.706613812399\n        ],\n        \"semantic_type\": \"\",\n        \"description\": \"\"\n      }\n    },\n    {\n      \"column\": \"High\",\n      \"properties\": {\n        \"dtype\": \"number\",\n        \"std\": 838.2671038098707,\n        \"min\": 27.1025868345667,\n        \"max\": 3981.75,\n        \"num_unique_values\": 4461,\n        \"samples\": [\n          111.631837561519,\n          227.535485351762,\n          1953.21422910423\n        ],\n        \"semantic_type\": \"\",\n        \"description\": \"\"\n      }\n    },\n    {\n      \"column\": \"Low\",\n      \"properties\": {\n        \"dtype\": \"number\",\n        \"std\": 821.2334770775446,\n        \"min\": 24.146938217479,\n        \"max\": 3892.10009765625,\n        \"num_unique_values\": 4462,\n        \"samples\": [\n          108.099922618065,\n          219.38976933851,\n          1904.14797793833\n        ],\n        \"semantic_type\": \"\",\n        \"description\": \"\"\n      }\n    },\n    {\n      \"column\": \"Close\",\n      \"properties\": {\n        \"dtype\": \"number\",\n        \"std\": 829.6113132094383,\n        \"min\": 26.3776092529296,\n        \"max\": 3954.55004882812,\n        \"num_unique_values\": 4397,\n        \"samples\": [\n          1106.40881347656,\n          1077.10144042968,\n          299.684020996093\n        ],\n        \"semantic_type\": \"\",\n        \"description\": \"\"\n      }\n    },\n    {\n      \"column\": \"Volume\",\n      \"properties\": {\n        \"dtype\": \"number\",\n        \"std\": 3273530,\n        \"min\": 0,\n        \"max\": 88067154,\n        \"num_unique_values\": 4435,\n        \"samples\": [\n          3550844,\n          1786388,\n          4665092\n        ],\n        \"semantic_type\": \"\",\n        \"description\": \"\"\n      }\n    },\n    {\n      \"column\": \"Dividends\",\n      \"properties\": {\n        \"dtype\": \"number\",\n        \"std\": 0.9654006908213347,\n        \"min\": 0.0,\n        \"max\": 40.0,\n        \"num_unique_values\": 29,\n        \"samples\": [\n          15.0,\n          12.0,\n          2.0\n        ],\n        \"semantic_type\": \"\",\n        \"description\": \"\"\n      }\n    },\n    {\n      \"column\": \"Stock Splits\",\n      \"properties\": {\n        \"dtype\": \"number\",\n        \"std\": 0,\n        \"min\": 0,\n        \"max\": 2,\n        \"num_unique_values\": 2,\n        \"samples\": [\n          2,\n          0\n        ],\n        \"semantic_type\": \"\",\n        \"description\": \"\"\n      }\n    }\n  ]\n}"
            }
          },
          "metadata": {},
          "execution_count": 3
        }
      ]
    },
    {
      "cell_type": "code",
      "source": [
        "print(\"Descriptive Statistics:\\n\",df.describe())\n",
        "print(\"\\nMissing Values:\\n\",df.isnull().sum())"
      ],
      "metadata": {
        "colab": {
          "base_uri": "https://localhost:8080/"
        },
        "id": "Y3V-LS9BEBUi",
        "outputId": "678c2127-fcf2-44d2-cc77-38b6dfa278bb"
      },
      "execution_count": 5,
      "outputs": [
        {
          "output_type": "stream",
          "name": "stdout",
          "text": [
            "Descriptive Statistics:\n",
            "                                 Date         Open  ...    Dividends  Stock Splits\n",
            "count                           4463  4463.000000  ...  4463.000000   4463.000000\n",
            "mean   2012-08-23 19:22:31.109119488   866.936239  ...     0.071533      0.001344\n",
            "min              2002-08-12 00:00:00    24.146938  ...     0.000000      0.000000\n",
            "25%              2008-02-14 12:00:00   188.951782  ...     0.000000      0.000000\n",
            "50%              2012-09-04 00:00:00   530.907530  ...     0.000000      0.000000\n",
            "75%              2017-03-22 12:00:00  1156.462421  ...     0.000000      0.000000\n",
            "max              2021-09-30 00:00:00  3930.000000  ...    40.000000      2.000000\n",
            "std                              NaN   829.905368  ...     0.965401      0.051842\n",
            "\n",
            "[8 rows x 8 columns]\n",
            "\n",
            "Missing Values:\n",
            " Date            0\n",
            "Open            0\n",
            "High            0\n",
            "Low             0\n",
            "Close           0\n",
            "Volume          0\n",
            "Dividends       0\n",
            "Stock Splits    0\n",
            "dtype: int64\n"
          ]
        }
      ]
    },
    {
      "cell_type": "code",
      "source": [
        "df['dateOrdinal'] = df['Date'].apply(lambda x: x.toordinal())\n",
        "X = df[['dateOrdinal']].values\n",
        "y = df['Close'].values"
      ],
      "metadata": {
        "id": "_J5WJNpJENV7"
      },
      "execution_count": 6,
      "outputs": []
    },
    {
      "cell_type": "code",
      "source": [
        "X_train, X_test, y_train, y_test = train_test_split(X, y, test_size=0.2, shuffle=False)\n"
      ],
      "metadata": {
        "id": "Kh0WbuIfF3cM"
      },
      "execution_count": 7,
      "outputs": []
    },
    {
      "cell_type": "code",
      "source": [
        "lin_model = LinearRegression()\n",
        "lin_model.fit(X_train,y_train)\n",
        "lin_preds =lin_model.predict(X_test)"
      ],
      "metadata": {
        "id": "ObgNz5eZF7y-"
      },
      "execution_count": 8,
      "outputs": []
    },
    {
      "cell_type": "code",
      "source": [
        "poly_model = make_pipeline(PolynomialFeatures(degree=3),LinearRegression())\n",
        "poly_model.fit(X_train,y_train)\n",
        "poly_preds = poly_model.predict(X_test)"
      ],
      "metadata": {
        "id": "hlJpK1HiGgCY"
      },
      "execution_count": 10,
      "outputs": []
    },
    {
      "cell_type": "code",
      "source": [
        "rbf_model = SVR(kernel='rbf',C=100,gamma=0.00001,epsilon=0.1)\n",
        "rbf_model.fit(X_train,y_train)\n",
        "rbf_preds = rbf_model.predict(X_test)"
      ],
      "metadata": {
        "id": "JyErCE9rHCSk"
      },
      "execution_count": 11,
      "outputs": []
    },
    {
      "cell_type": "code",
      "source": [
        "# Step 8: Evaluation metrics\n",
        "def evaluate(name, y_true, y_pred):\n",
        "    r2 = r2_score(y_true, y_pred)\n",
        "    mae = mean_absolute_error(y_true, y_pred)\n",
        "    mape = mean_absolute_percentage_error(y_true, y_pred)\n",
        "    print(f\"\\n{name} Performance:\")\n",
        "    print(f\"R² Score: {r2:.4f}\")\n",
        "    print(f\"MAE: {mae:.2f}\")\n",
        "    print(f\"MAPE: {mape:.2%}\")\n",
        "    return r2\n",
        "\n",
        "# Call evaluate for each model and store the R² scores\n",
        "r2_lin = evaluate(\"Linear Regression\", y_test, lin_preds)\n",
        "r2_poly = evaluate(\"Polynomial Regression\", y_test, poly_preds)\n",
        "r2_rbf = evaluate(\"RBF Regression\", y_test, rbf_preds)"
      ],
      "metadata": {
        "colab": {
          "base_uri": "https://localhost:8080/"
        },
        "id": "cT0rhiD1HdjM",
        "outputId": "5e9da069-bbe2-4e30-f6dd-efc41b04eb2b"
      },
      "execution_count": 15,
      "outputs": [
        {
          "output_type": "stream",
          "name": "stdout",
          "text": [
            "\n",
            "Linear Regression Performance:\n",
            "R² Score: -2.1237\n",
            "MAE: 918.92\n",
            "MAPE: 37.90%\n",
            "\n",
            "Polynomial Regression Performance:\n",
            "R² Score: -0.2675\n",
            "MAE: 529.55\n",
            "MAPE: 20.83%\n",
            "\n",
            "RBF Regression Performance:\n",
            "R² Score: -7.7080\n",
            "MAE: 1576.56\n",
            "MAPE: 65.90%\n"
          ]
        }
      ]
    },
    {
      "cell_type": "code",
      "source": [
        "r2_scores = {'Linear': r2_lin, 'Polynomial': r2_poly, 'RBF': r2_rbf}\n",
        "best_model_name = max(r2_scores, key=r2_scores.get)\n",
        "print(f\"\\n✅ Best model based on R²: {best_model_name}\")"
      ],
      "metadata": {
        "colab": {
          "base_uri": "https://localhost:8080/"
        },
        "id": "YKc6vQJjIXPa",
        "outputId": "5fce5090-87fc-4113-a11f-21a428b0c8bf"
      },
      "execution_count": 16,
      "outputs": [
        {
          "output_type": "stream",
          "name": "stdout",
          "text": [
            "\n",
            "✅ Best model based on R²: Polynomial\n"
          ]
        }
      ]
    },
    {
      "cell_type": "code",
      "source": [
        "def predict_for_date(date_str):\n",
        "    date = datetime.datetime.strptime(date_str, \"%Y-%m-%d\").toordinal()\n",
        "    if best_model_name == 'Linear':\n",
        "        prediction = lin_model.predict([[date]])\n",
        "    elif best_model_name == 'Polynomial':\n",
        "        prediction = poly_model.predict([[date]])\n",
        "    else:\n",
        "        prediction = rbf_model.predict([[date]])\n",
        "    print(f\"Predicted Close Price on {date_str}: ₹{prediction[0]:.2f}\")"
      ],
      "metadata": {
        "id": "Wcfl9DclIhs4"
      },
      "execution_count": 17,
      "outputs": []
    },
    {
      "cell_type": "code",
      "source": [
        "predict_for_date(\"2025-04-15\")\n",
        "predict_for_date(\"2023-01-01\")"
      ],
      "metadata": {
        "colab": {
          "base_uri": "https://localhost:8080/"
        },
        "id": "ngb8QZlQI6u6",
        "outputId": "e57ff5bc-8d5b-4c1b-f425-9733b54c94fe"
      },
      "execution_count": 18,
      "outputs": [
        {
          "output_type": "stream",
          "name": "stdout",
          "text": [
            "Predicted Close Price on 2025-04-15: ₹2950.26\n",
            "Predicted Close Price on 2023-01-01: ₹2386.87\n"
          ]
        }
      ]
    },
    {
      "cell_type": "code",
      "source": [],
      "metadata": {
        "id": "1OJhU8aUI9cv"
      },
      "execution_count": null,
      "outputs": []
    }
  ]
}